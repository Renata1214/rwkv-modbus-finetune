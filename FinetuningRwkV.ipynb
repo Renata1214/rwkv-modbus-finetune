{
 "cells": [
  {
   "cell_type": "code",
   "execution_count": 1,
   "id": "2a878256",
   "metadata": {},
   "outputs": [
    {
     "name": "stdout",
     "output_type": "stream",
     "text": [
      "NVIDIA A100-SXM4-80GB\n",
      "True\n"
     ]
    }
   ],
   "source": [
    "import os\n",
    "os.environ[\"CUDA_VISIBLE_DEVICES\"] = \"1\"  # Replace 1 with the GPU index you want\n",
    "\n",
    "import torch\n",
    "print(torch.cuda.get_device_name(0))  # This will now refer to GPU 1 as \"GPU 0\" in the notebook context\n",
    "print(torch.cuda.is_available())"
   ]
  },
  {
   "cell_type": "code",
   "execution_count": 2,
   "id": "ffbbd73b",
   "metadata": {},
   "outputs": [
    {
     "name": "stdout",
     "output_type": "stream",
     "text": [
      "Device count: 1\n",
      "Current GPU: 0\n",
      "GPU name: NVIDIA A100-SXM4-80GB\n"
     ]
    }
   ],
   "source": [
    "import torch\n",
    "print(\"Device count:\", torch.cuda.device_count())\n",
    "print(\"Current GPU:\", torch.cuda.current_device())\n",
    "print(\"GPU name:\", torch.cuda.get_device_name(0))\n"
   ]
  },
  {
   "cell_type": "code",
   "execution_count": 1,
   "id": "680279b5",
   "metadata": {},
   "outputs": [],
   "source": [
    "import json\n",
    "\n",
    "input_path = \"modbus_dataset.jsonl\"\n",
    "output_path = \"modbus_dataset_rwkv.jsonl\"\n",
    "\n",
    "with open(input_path, \"r\") as infile, open(output_path, \"w\") as outfile:\n",
    "    for line in infile:\n",
    "        item = json.loads(line)\n",
    "        prompt = f\"query: {item['query']}\\n\\nresponse: {item['response']}\"\n",
    "        outfile.write(json.dumps({\"text\": prompt}) + \"\\n\")\n"
   ]
  },
  {
   "cell_type": "code",
   "execution_count": 2,
   "id": "22a0f6a4",
   "metadata": {},
   "outputs": [
    {
     "data": {
      "text/html": [
       "<div>\n",
       "<style scoped>\n",
       "    .dataframe tbody tr th:only-of-type {\n",
       "        vertical-align: middle;\n",
       "    }\n",
       "\n",
       "    .dataframe tbody tr th {\n",
       "        vertical-align: top;\n",
       "    }\n",
       "\n",
       "    .dataframe thead th {\n",
       "        text-align: right;\n",
       "    }\n",
       "</style>\n",
       "<table border=\"1\" class=\"dataframe\">\n",
       "  <thead>\n",
       "    <tr style=\"text-align: right;\">\n",
       "      <th></th>\n",
       "      <th>text</th>\n",
       "    </tr>\n",
       "  </thead>\n",
       "  <tbody>\n",
       "    <tr>\n",
       "      <th>0</th>\n",
       "      <td>query: 060f000000060005fffdff00\\n\\nresponse: 0...</td>\n",
       "    </tr>\n",
       "    <tr>\n",
       "      <th>1</th>\n",
       "      <td>query: 01b7000000060005fffdff00\\n\\nresponse: 0...</td>\n",
       "    </tr>\n",
       "    <tr>\n",
       "      <th>2</th>\n",
       "      <td>query: 05420000000d0010ec88000306831883180000\\...</td>\n",
       "    </tr>\n",
       "    <tr>\n",
       "      <th>3</th>\n",
       "      <td>query: 005f0000000d0010fffd000306ffffffffffff\\...</td>\n",
       "    </tr>\n",
       "    <tr>\n",
       "      <th>4</th>\n",
       "      <td>query: 05c40000000b00100026000204ffffffff\\n\\nr...</td>\n",
       "    </tr>\n",
       "  </tbody>\n",
       "</table>\n",
       "</div>"
      ],
      "text/plain": [
       "                                                text\n",
       "0  query: 060f000000060005fffdff00\\n\\nresponse: 0...\n",
       "1  query: 01b7000000060005fffdff00\\n\\nresponse: 0...\n",
       "2  query: 05420000000d0010ec88000306831883180000\\...\n",
       "3  query: 005f0000000d0010fffd000306ffffffffffff\\...\n",
       "4  query: 05c40000000b00100026000204ffffffff\\n\\nr..."
      ]
     },
     "execution_count": 2,
     "metadata": {},
     "output_type": "execute_result"
    }
   ],
   "source": [
    "import pandas as pd\n",
    "import json\n",
    "\n",
    "#Observe final Dataset\n",
    "df_modbus = pd.read_json(\"modbus_dataset_rwkv.jsonl\", lines=True)\n",
    "df_modbus.head()"
   ]
  },
  {
   "cell_type": "code",
   "execution_count": 3,
   "id": "ba810a5e",
   "metadata": {},
   "outputs": [
    {
     "name": "stdout",
     "output_type": "stream",
     "text": [
      "Model downloaded to: /home/re2230/.cache/huggingface/hub/models--RWKV--rwkv-5-world-all-pth/snapshots/d48d1c54cf32cfdc13fca3c767998a0bf3eef8b6/RWKV-5-World-0.4B-v2-20231113-ctx4096.pth\n"
     ]
    }
   ],
   "source": [
    "from huggingface_hub import hf_hub_download\n",
    "\n",
    "model_path = hf_hub_download(\n",
    "    repo_id=\"RWKV/rwkv-5-world-all-pth\",\n",
    "    filename=\"RWKV-5-World-0.4B-v2-20231113-ctx4096.pth\"\n",
    ")\n",
    "\n",
    "print(f\"Model downloaded to: {model_path}\")\n"
   ]
  },
  {
   "cell_type": "code",
   "execution_count": 4,
   "id": "d8a658f9",
   "metadata": {},
   "outputs": [],
   "source": [
    "model_path = \"/home/re2230/.cache/huggingface/hub/models--RWKV--rwkv-5-world-all-pth/snapshots/d48d1c54cf32cfdc13fca3c767998a0bf3eef8b6/RWKV-5-World-0.4B-v2-20231113-ctx4096.pth\"\n"
   ]
  },
  {
   "cell_type": "code",
   "execution_count": 5,
   "id": "c1831181",
   "metadata": {},
   "outputs": [
    {
     "name": "stdout",
     "output_type": "stream",
     "text": [
      "{'mode': 'bone', 'r': 32, 'load': ''}\n"
     ]
    }
   ],
   "source": [
    "import json\n",
    "print(json.loads('{\"mode\":\"bone\",\"r\":32,\"load\":\"\"}'))\n"
   ]
  },
  {
   "cell_type": "code",
   "execution_count": 4,
   "id": "4c34393f",
   "metadata": {},
   "outputs": [
    {
     "name": "stderr",
     "output_type": "stream",
     "text": [
      "\u001b[34m\u001b[1mwandb\u001b[0m: Currently logged in as: \u001b[33mre2230\u001b[0m (\u001b[33mre2230-new-york-university\u001b[0m) to \u001b[32mhttps://api.wandb.ai\u001b[0m. Use \u001b[1m`wandb login --relogin`\u001b[0m to force relogin\n"
     ]
    },
    {
     "data": {
      "text/plain": [
       "True"
      ]
     },
     "execution_count": 4,
     "metadata": {},
     "output_type": "execute_result"
    }
   ],
   "source": [
    "import wandb\n",
    "wandb.login()\n"
   ]
  },
  {
   "cell_type": "code",
   "execution_count": 3,
   "id": "f8070271",
   "metadata": {},
   "outputs": [
    {
     "name": "stdout",
     "output_type": "stream",
     "text": [
      "/home/re2230\n"
     ]
    },
    {
     "name": "stderr",
     "output_type": "stream",
     "text": [
      "/home/re2230/rwkv-env/lib/python3.10/site-packages/IPython/core/magics/osm.py:417: UserWarning: This is now an optional IPython functionality, setting dhist requires you to install the `pickleshare` library.\n",
      "  self.shell.db['dhist'] = compress_dhist(dhist)[-100:]\n"
     ]
    }
   ],
   "source": [
    "cd /home/re2230\n"
   ]
  },
  {
   "cell_type": "code",
   "execution_count": 52,
   "id": "96f623c8",
   "metadata": {},
   "outputs": [
    {
     "name": "stdout",
     "output_type": "stream",
     "text": [
      "✅ Combined dataset written to /home/re2230/combined_modbus_dataset.jsonl\n"
     ]
    }
   ],
   "source": [
    "import json\n",
    "\n",
    "# Paths to input files\n",
    "modbus_path = \"/home/re2230/modbus_dataset.jsonl\"\n",
    "modbusa_test_path = \"/home/re2230/RWKV-PEFT/rwkvt/dataset/modbus_dataset_test.jsonl\"\n",
    "output_path = \"/home/re2230/combined_modbus_dataset.jsonl\"\n",
    "\n",
    "# Read the first dataset\n",
    "with open(modbus_path, \"r\") as f:\n",
    "    modbus_data = [json.loads(line) for line in f]\n",
    "\n",
    "# Read the second dataset (only lines 21 to 50)\n",
    "with open(modbusa_test_path, \"r\") as f:\n",
    "    modbusa_lines = f.readlines()[20:159]  # lines 21 to 160 (0-indexed)\n",
    "    modbusa_data = [json.loads(line) for line in modbusa_lines]\n",
    "\n",
    "# Combine datasets\n",
    "combined_data = modbus_data + modbusa_data\n",
    "\n",
    "# Write to new file\n",
    "with open(output_path, \"w\") as f:\n",
    "    for entry in combined_data:\n",
    "        f.write(json.dumps(entry) + \"\\n\")\n",
    "\n",
    "print(f\"✅ Combined dataset written to {output_path}\")"
   ]
  },
  {
   "cell_type": "code",
   "execution_count": 53,
   "id": "e6e880fc",
   "metadata": {},
   "outputs": [],
   "source": [
    "import json\n",
    "\n",
    "input_path = \"/home/re2230/combined_modbus_dataset.jsonl\"\n",
    "output_path = \"/home/re2230/combined_modbus_dataset_rwkv.jsonl\"\n",
    "\n",
    "with open(input_path, \"r\") as infile, open(output_path, \"w\") as outfile:\n",
    "    for line in infile:\n",
    "        item = json.loads(line)\n",
    "        prompt = f\"query: {item['query']}\\n\\nresponse: {item['response']}\"\n",
    "        outfile.write(json.dumps({\"text\": prompt}) + \"\\n\")\n"
   ]
  },
  {
   "cell_type": "code",
   "execution_count": null,
   "id": "8d9cf02a",
   "metadata": {},
   "outputs": [],
   "source": [
    "#TRAINING WITH SFT FORMAT\n",
    "\n",
    "import subprocess\n",
    "import shlex\n",
    "import os\n",
    "\n",
    "# Activar seguimiento en Weights & Biases\n",
    "os.environ[\"WANDB_PROJECT\"] = \"rwkv-finetune\"\n",
    "\n",
    "from datasets import load_dataset\n",
    "\n",
    "dataset = load_dataset(\"json\", data_files=\"modbus_dataset_rwkv.jsonl\")\n",
    "\n",
    "model_path = \"/home/re2230/.cache/huggingface/hub/models--RWKV--rwkv-5-world-all-pth/snapshots/d48d1c54cf32cfdc13fca3c767998a0bf3eef8b6/RWKV-5-World-0.4B-v2-20231113-ctx4096.pth\"\n",
    "\n",
    "command = f\"\"\"\n",
    "python RWKV-PEFT/train.py \\\n",
    "--load_model {model_path} \\\n",
    "--data_file json \\\n",
    "--data_files /home/re2230/modbus_dataset.jsonl \\\n",
    "--data_type sft \\\n",
    "--sft_field query response \\\n",
    "--ctx_len 512 \\\n",
    "--epoch_steps 50 \\\n",
    "--epoch_count 50 \\\n",
    "--micro_bsz 1 \\\n",
    "--n_layer 24 \\\n",
    "--n_embd 1024 \\\n",
    "--vocab_size 65536 \\\n",
    "--lr_init 6e-5 \\\n",
    "--warmup_steps 10 \\\n",
    "--strategy deepspeed \\\n",
    "--accelerator cuda \\\n",
    "--precision bf16 \\\n",
    "--peft disha \\\n",
    "--disha_config '{{\"mode\":\"bone\",\"r\":32,\"load\":\"\"}}' \\\n",
    "--proj_dir out/rwkv-modbus-ft\n",
    "\"\"\"\n",
    "\n",
    "\n",
    "result = subprocess.run(shlex.split(command), capture_output=True, text=True)\n",
    "\n",
    "print(\"📤 STDOUT:\\n\", result.stdout)\n",
    "print(\"⚠️ STDERR:\\n\", result.stderr)\n",
    "\n",
    "if result.returncode != 0:\n",
    "    print(f\"❌ Training failed with exit code {result.returncode}\")\n",
    "else:\n",
    "    print(\"✅ Training started successfully\")   \n"
   ]
  },
  {
   "cell_type": "code",
   "execution_count": null,
   "id": "2afecac8",
   "metadata": {},
   "outputs": [],
   "source": [
    "#TRAINING WITH JSONL FORMAT\n",
    "\n",
    "import subprocess\n",
    "import shlex\n",
    "import os\n",
    "\n",
    "# Activar seguimiento en Weights & Biases\n",
    "os.environ[\"WANDB_PROJECT\"] = \"rwkv-finetune\"\n",
    "\n",
    "from datasets import load_dataset\n",
    "\n",
    "dataset = load_dataset(\"json\", data_files=\"modbus_dataset_rwkv.jsonl\")\n",
    "\n",
    "model_path = \"/home/re2230/.cache/huggingface/hub/models--RWKV--rwkv-5-world-all-pth/snapshots/d48d1c54cf32cfdc13fca3c767998a0bf3eef8b6/RWKV-5-World-0.4B-v2-20231113-ctx4096.pth\"\n",
    "\n",
    "command = f\"\"\"\n",
    "python RWKV-PEFT/train.py \\\n",
    "--load_model {model_path} \\\n",
    "--data_file /home/re2230/combined_modbus_dataset_rwkv.jsonl \\\n",
    "--data_type jsonl \\\n",
    "--sft_field text \\\n",
    "--ctx_len 512 \\\n",
    "--epoch_steps 50 \\\n",
    "--epoch_count 50 \\\n",
    "--micro_bsz 1 \\\n",
    "--n_layer 24 \\\n",
    "--n_embd 1024 \\\n",
    "--vocab_size 65536 \\\n",
    "--lr_init 6e-5 \\\n",
    "--warmup_steps 10 \\\n",
    "--strategy deepspeed \\\n",
    "--accelerator cuda \\\n",
    "--precision bf16 \\\n",
    "--peft disha \\\n",
    "--disha_config '{{\"mode\":\"bone\",\"r\":32,\"load\":\"\"}}' \\\n",
    "--proj_dir out/rwkv-modbus-ft\n",
    "\"\"\"\n",
    "\n",
    "\n",
    "result = subprocess.run(shlex.split(command), capture_output=True, text=True)\n",
    "\n",
    "print(\"📤 STDOUT:\\n\", result.stdout)\n",
    "print(\"⚠️ STDERR:\\n\", result.stderr)\n",
    "\n",
    "if result.returncode != 0:\n",
    "    print(f\"❌ Training failed with exit code {result.returncode}\")\n",
    "else:\n",
    "    print(\"✅ Training started successfully\")  \n",
    "\n",
    "\n",
    "#Not combined dataset : Metric val_loss improved by 0.050 >= min_delta = 0.001. New best score: 1.228\n",
    "#Monitored metric val_loss did not improve in the last 3 records. Best score: 1.228. Signaling Trainer to stop. \n"
   ]
  },
  {
   "cell_type": "code",
   "execution_count": 44,
   "id": "c1ef69ab",
   "metadata": {},
   "outputs": [
    {
     "data": {
      "image/png": "[encoded data removed]",
      "text/plain": [
       "<Figure size 1000x500 with 1 Axes>"
      ]
     },
     "metadata": {},
     "output_type": "display_data"
    }
   ],
   "source": [
    "import json\n",
    "import matplotlib.pyplot as plt\n",
    "\n",
    "# \"loss\" – general loss (probably for display)\n",
    "# \"t_cost\" – training loss per step (token-level)\n",
    "# \"kt_s\" – possibly token-level speed or time per step (not performance-related)\n",
    "\n",
    "# Load data\n",
    "with open(\"/home/re2230/out/rwkv-modbus-ft/loss_data.json\") as f:\n",
    "    data = [json.loads(line) for line in f if line.strip()]\n",
    "\n",
    "# Extract loss values\n",
    "steps = list(range(len(data)))\n",
    "loss = [entry[\"loss\"] for entry in data]\n",
    "t_cost = [entry[\"t_cost\"] for entry in data]\n",
    "\n",
    "# Plot\n",
    "plt.figure(figsize=(10, 5))\n",
    "plt.plot(steps, loss, label=\"Loss\")\n",
    "plt.plot(steps, t_cost, label=\"Token Loss (t_cost)\")\n",
    "plt.xlabel(\"Step\")\n",
    "plt.ylabel(\"Loss\")\n",
    "plt.title(\"Training Loss Over Time\")\n",
    "plt.legend()\n",
    "plt.grid(True)\n",
    "plt.tight_layout()\n",
    "plt.show()\n"
   ]
  },
  {
   "cell_type": "code",
   "execution_count": 6,
   "id": "7f8ba8ce",
   "metadata": {},
   "outputs": [],
   "source": [
    "import sys\n",
    "import os\n"
   ]
  },
  {
   "cell_type": "code",
   "execution_count": 7,
   "id": "aa8d891c",
   "metadata": {},
   "outputs": [],
   "source": [
    "# Entorno necesarias para RWKV-PEFT\n",
    "os.environ[\"RWKV_HEAD_SIZE_A\"] = \"64\"\n",
    "os.environ[\"RWKV_MY_TESTING\"] = \"x052\"\n",
    "os.environ[\"RWKV_MY_TESTING\"] = \"x052\"\n",
    "os.environ[\"RWKV_TRAIN_TYPE\"] = \"sft\"\n",
    "os.environ[\"WKV\"] = \"cuda\"\n",
    "os.environ[\"FUSED_KERNEL\"] = \"1\"\n",
    "\n"
   ]
  },
  {
   "cell_type": "code",
   "execution_count": 8,
   "id": "6cf814df",
   "metadata": {},
   "outputs": [],
   "source": [
    "sys.path.append(\"/home/re2230/RWKV-PEFT\")"
   ]
  },
  {
   "cell_type": "code",
   "execution_count": 9,
   "id": "e50b0622",
   "metadata": {},
   "outputs": [
    {
     "name": "stdout",
     "output_type": "stream",
     "text": [
      "Number of layers: 24\n",
      "Embedding size (n_embd): 1024\n"
     ]
    }
   ],
   "source": [
    "import torch\n",
    "\n",
    "ckpt = torch.load(\n",
    "    \"/home/re2230/.cache/huggingface/hub/models--RWKV--rwkv-5-world-all-pth/snapshots/d48d1c54cf32cfdc13fca3c767998a0bf3eef8b6/RWKV-5-World-0.4B-v2-20231113-ctx4096.pth\",\n",
    "    map_location=\"cpu\"\n",
    ")\n",
    "\n",
    "print(\"Number of layers:\", len([k for k in ckpt if \"blocks.\" in k and \".att.\" in k and \".ln_x.weight\" in k]))\n",
    "print(\"Embedding size (n_embd):\", ckpt[\"blocks.0.att.ln_x.weight\"].shape[0])\n"
   ]
  },
  {
   "cell_type": "code",
   "execution_count": 14,
   "id": "5925334d",
   "metadata": {},
   "outputs": [
    {
     "name": "stdout",
     "output_type": "stream",
     "text": [
      "blocks.0.att.time_decay torch.Size([16, 64])\n"
     ]
    }
   ],
   "source": [
    "import torch\n",
    "\n",
    "ckpt_path = \"/home/re2230/.cache/huggingface/hub/models--RWKV--rwkv-5-world-all-pth/snapshots/d48d1c54cf32cfdc13fca3c767998a0bf3eef8b6/RWKV-5-World-0.4B-v2-20231113-ctx4096.pth\"\n",
    "ckpt = torch.load(ckpt_path, map_location=\"cpu\")\n",
    "\n",
    "# Look for an attention-related key to infer context length\n",
    "for k in ckpt:\n",
    "    if \"time_decay\" in k:\n",
    "        print(k, ckpt[k].shape)\n",
    "        break\n"
   ]
  },
  {
   "cell_type": "code",
   "execution_count": 10,
   "id": "b34b662b",
   "metadata": {},
   "outputs": [],
   "source": [
    "import json\n",
    "\n",
    "input_path = \"/home/re2230/RWKV-PEFT/rwkvt/dataset/modbus_dataset_test.jsonl\"\n",
    "output_path = \"/home/re2230/RWKV-PEFT/rwkvt/dataset/modbus_dataset_test_rwkv.jsonl\"\n",
    "\n",
    "with open(input_path, \"r\") as infile, open(output_path, \"w\") as outfile:\n",
    "    for line in infile:\n",
    "        item = json.loads(line)\n",
    "        prompt = f\"query: {item['query']}\\n\\nresponse: {item['response']}\"\n",
    "        outfile.write(json.dumps({\"text\": prompt}) + \"\\n\")\n"
   ]
  },
  {
   "cell_type": "code",
   "execution_count": null,
   "id": "658a8255",
   "metadata": {},
   "outputs": [
    {
     "name": "stderr",
     "output_type": "stream",
     "text": [
      "########## Loading /home/re2230/.cache/huggingface/hub/models--RWKV--rwkv-5-world-all-pth/snapshots/d48d1c54cf32cfdc13fca3c767998a0bf3eef8b6/RWKV-5-World-0.4B-v2-20231113-ctx4096.pth... ##########\n"
     ]
    },
    {
     "name": "stdout",
     "output_type": "stream",
     "text": [
      "RWKV(\n",
      "  (model): RWKV5(\n",
      "    (emb): Embedding(65536, 1024)\n",
      "    (blocks): ModuleList(\n",
      "      (0): Block(\n",
      "        (ln1): LayerNorm((1024,), eps=1e-05, elementwise_affine=True)\n",
      "        (ln2): LayerNorm((1024,), eps=1e-05, elementwise_affine=True)\n",
      "        (ln0): LayerNorm((1024,), eps=1e-05, elementwise_affine=True)\n",
      "        (att): RWKV_TimeMix_RWKV5(\n",
      "          (time_shift): ZeroPad2d((0, 0, 1, -1))\n",
      "          (receptance): BoneLinear()\n",
      "          (key): BoneLinear()\n",
      "          (value): BoneLinear()\n",
      "          (output): BoneLinear()\n",
      "          (gate): BoneLinear()\n",
      "          (ln_x): GroupNorm(16, 1024, eps=1e-05, affine=True)\n",
      "        )\n",
      "        (ffn): RWKV_ChannelMix(\n",
      "          (time_shift): ZeroPad2d((0, 0, 1, -1))\n",
      "          (key): BoneLinear()\n",
      "          (receptance): BoneLinear()\n",
      "          (value): BoneLinear()\n",
      "        )\n",
      "      )\n",
      "      (1-23): 23 x Block(\n",
      "        (ln1): LayerNorm((1024,), eps=1e-05, elementwise_affine=True)\n",
      "        (ln2): LayerNorm((1024,), eps=1e-05, elementwise_affine=True)\n",
      "        (att): RWKV_TimeMix_RWKV5(\n",
      "          (time_shift): ZeroPad2d((0, 0, 1, -1))\n",
      "          (receptance): BoneLinear()\n",
      "          (key): BoneLinear()\n",
      "          (value): BoneLinear()\n",
      "          (output): BoneLinear()\n",
      "          (gate): BoneLinear()\n",
      "          (ln_x): GroupNorm(16, 1024, eps=1e-05, affine=True)\n",
      "        )\n",
      "        (ffn): RWKV_ChannelMix(\n",
      "          (time_shift): ZeroPad2d((0, 0, 1, -1))\n",
      "          (key): BoneLinear()\n",
      "          (receptance): BoneLinear()\n",
      "          (value): BoneLinear()\n",
      "        )\n",
      "      )\n",
      "    )\n",
      "    (ln_out): LayerNorm((1024,), eps=1e-05, elementwise_affine=True)\n",
      "    (head): Linear(in_features=1024, out_features=65536, bias=False)\n",
      "  )\n",
      "  (criterion): FusedCrossEntropyLoss()\n",
      ")\n",
      "<class 'rwkvt.lightning_train.light_rwkv.RWKV'>\n"
     ]
    },
    {
     "name": "stderr",
     "output_type": "stream",
     "text": [
      "  0%|          | 0/20 [00:00<?, ?it/s]"
     ]
    },
    {
     "name": "stdout",
     "output_type": "stream",
     "text": [
      "['<s>', 'query', ':', ' 02', '1', 'd', '00', '00', '00', '06', '00', '03', 'fff', 'd', '00', '02', '\\n\\n', 'response', ':']\n"
     ]
    },
    {
     "name": "stderr",
     "output_type": "stream",
     "text": [
      "  5%|▌         | 1/20 [00:00<00:15,  1.25it/s]"
     ]
    },
    {
     "name": "stdout",
     "output_type": "stream",
     "text": [
      "['<s>', 'query', ':', ' 01', '2', 'c', '00', '00', '00', '06', '00', '05', 'fff', 'df', 'f', '00', '\\n\\n', 'response', ':']\n"
     ]
    },
    {
     "name": "stderr",
     "output_type": "stream",
     "text": [
      " 10%|█         | 2/20 [00:01<00:14,  1.28it/s]"
     ]
    },
    {
     "name": "stdout",
     "output_type": "stream",
     "text": [
      "['<s>', 'query', ':', ' 03', 'eb', '00', '00', '00', '06', '00', '05', '00', '09', '00', '00', '\\n\\n', 'response', ':']\n"
     ]
    },
    {
     "name": "stderr",
     "output_type": "stream",
     "text": [
      " 15%|█▌        | 3/20 [00:02<00:12,  1.36it/s]"
     ]
    },
    {
     "name": "stdout",
     "output_type": "stream",
     "text": [
      "['<s>', 'query', ':', ' 04', '5', 'd', '00', '00', '00', '06', '00', '01', 'fff', 'e', '00', '01', '\\n\\n', 'response', ':']\n"
     ]
    },
    {
     "name": "stderr",
     "output_type": "stream",
     "text": [
      " 20%|██        | 4/20 [00:02<00:11,  1.36it/s]"
     ]
    },
    {
     "name": "stdout",
     "output_type": "stream",
     "text": [
      "['<s>', 'query', ':', ' 06', '10', '00', '00', '00', '0', 'd', '00', '10', '00', '28', '00', '03', '06', '00', '00', 'ffff', '00', '00', '\\n\\n', 'response', ':']\n"
     ]
    },
    {
     "name": "stderr",
     "output_type": "stream",
     "text": [
      " 25%|██▌       | 5/20 [00:03<00:10,  1.37it/s]"
     ]
    },
    {
     "name": "stdout",
     "output_type": "stream",
     "text": [
      "['<s>', 'query', ':', ' 05', '8', 'd', '00', '00', '00', '06', '00', '01', '00', '28', '00', '02', '\\n\\n', 'response', ':']\n"
     ]
    },
    {
     "name": "stderr",
     "output_type": "stream",
     "text": [
      " 30%|███       | 6/20 [00:04<00:10,  1.36it/s]"
     ]
    },
    {
     "name": "stdout",
     "output_type": "stream",
     "text": [
      "['<s>', 'query', ':', ' 03', '20', '00', '00', '00', '06', '00', '03', '00', '28', '00', '01', '\\n\\n', 'response', ':']\n"
     ]
    },
    {
     "name": "stderr",
     "output_type": "stream",
     "text": [
      " 35%|███▌      | 7/20 [00:05<00:09,  1.37it/s]"
     ]
    },
    {
     "name": "stdout",
     "output_type": "stream",
     "text": [
      "['<s>', 'query', ':', ' 02', '3', 'a', '00', '00', '00', '06', '00', '03', 'fff', 'e', '00', '01', '\\n\\n', 'response', ':']\n"
     ]
    },
    {
     "name": "stderr",
     "output_type": "stream",
     "text": [
      " 40%|████      | 8/20 [00:05<00:08,  1.37it/s]"
     ]
    },
    {
     "name": "stdout",
     "output_type": "stream",
     "text": [
      "['<s>', 'query', ':', ' 03', '82', '00', '00', '00', '0', 'd', '00', '10', '00', '25', '00', '03', '06', '00', '00', 'a', '99', '4', 'a', '99', '4', '\\n\\n', 'response', ':']\n"
     ]
    },
    {
     "name": "stderr",
     "output_type": "stream",
     "text": [
      " 45%|████▌     | 9/20 [00:06<00:07,  1.38it/s]"
     ]
    },
    {
     "name": "stdout",
     "output_type": "stream",
     "text": [
      "['<s>', 'query', ':', ' 02', '53', '00', '00', '00', '06', '00', '03', '00', '00', '00', '02', '\\n\\n', 'response', ':']\n"
     ]
    },
    {
     "name": "stderr",
     "output_type": "stream",
     "text": [
      " 50%|█████     | 10/20 [00:07<00:07,  1.38it/s]"
     ]
    },
    {
     "name": "stdout",
     "output_type": "stream",
     "text": [
      "['<s>', 'query', ':', ' 04', 'd', '20', '00', '00', '00', '60', '00', '50', '02', '8', 'ff', '00', '\\n\\n', 'response', ':']\n"
     ]
    },
    {
     "name": "stderr",
     "output_type": "stream",
     "text": [
      " 55%|█████▌    | 11/20 [00:08<00:06,  1.37it/s]"
     ]
    },
    {
     "name": "stdout",
     "output_type": "stream",
     "text": [
      "['<s>', 'query', ':', ' 05', '46', '00', '00', '00', '06', '00', '03', '00', '00', '00', '01', '\\n\\n', 'response', ':']\n"
     ]
    },
    {
     "name": "stderr",
     "output_type": "stream",
     "text": [
      " 60%|██████    | 12/20 [00:08<00:05,  1.38it/s]"
     ]
    },
    {
     "name": "stdout",
     "output_type": "stream",
     "text": [
      "['<s>', 'query', ':', ' 02', 'ca', '00', '00', '00', '06', '00', '01', '00', '28', '00', '02', '\\n\\n', 'response', ':']\n"
     ]
    },
    {
     "name": "stderr",
     "output_type": "stream",
     "text": [
      " 65%|██████▌   | 13/20 [00:09<00:05,  1.40it/s]"
     ]
    },
    {
     "name": "stdout",
     "output_type": "stream",
     "text": [
      "['<s>', 'query', ':', ' 03', '4', 'f', '00', '00', '00', '06', '00', '01', 'eb', '18', '00', '02', '\\n\\n', 'response', ':']\n"
     ]
    },
    {
     "name": "stderr",
     "output_type": "stream",
     "text": [
      " 70%|███████   | 14/20 [00:10<00:04,  1.39it/s]"
     ]
    },
    {
     "name": "stdout",
     "output_type": "stream",
     "text": [
      "['<s>', 'query', ':', ' 00', '56', '00', '00', '00', '06', '00', '03', '00', '25', '00', '02', '\\n\\n', 'response', ':']\n"
     ]
    },
    {
     "name": "stderr",
     "output_type": "stream",
     "text": [
      " 75%|███████▌  | 15/20 [00:10<00:03,  1.40it/s]"
     ]
    },
    {
     "name": "stdout",
     "output_type": "stream",
     "text": [
      "['<s>', 'query', ':', ' 05', 'fe', '00', '00', '00', '06', '00', '03', 'cab', '30', '00', '2', '\\n\\n', 'response', ':']\n"
     ]
    },
    {
     "name": "stderr",
     "output_type": "stream",
     "text": [
      " 80%|████████  | 16/20 [00:11<00:02,  1.39it/s]"
     ]
    },
    {
     "name": "stdout",
     "output_type": "stream",
     "text": [
      "['<s>', 'query', ':', ' 01', 'a', '20', '00', '00', '00', '60', '00', '30', '01', '20', '00', '2', '\\n\\n', 'response', ':']\n"
     ]
    },
    {
     "name": "stderr",
     "output_type": "stream",
     "text": [
      " 85%|████████▌ | 17/20 [00:12<00:02,  1.40it/s]"
     ]
    },
    {
     "name": "stdout",
     "output_type": "stream",
     "text": [
      "['<s>', 'query', ':', ' 05', '66', '00', '00', '00', '06', '00', '01', 'fff', 'e', '00', '01', '\\n\\n', 'response', ':']\n"
     ]
    },
    {
     "name": "stderr",
     "output_type": "stream",
     "text": [
      " 90%|█████████ | 18/20 [00:13<00:01,  1.41it/s]"
     ]
    },
    {
     "name": "stdout",
     "output_type": "stream",
     "text": [
      "['<s>', 'query', ':', ' 05', '0', 'c', '00', '00', '00', '0', 'd', '00', '10', 'fff', 'd', '00', '03', '06', 'ffffffff', '83', '18', '\\n\\n', 'response', ':']\n"
     ]
    },
    {
     "name": "stderr",
     "output_type": "stream",
     "text": [
      " 95%|█████████▌| 19/20 [00:13<00:00,  1.42it/s]"
     ]
    },
    {
     "name": "stdout",
     "output_type": "stream",
     "text": [
      "['<s>', 'query', ':', ' 04', '47', '00', '00', '00', '06', '00', '01', '00', '28', '00', '02', '\\n\\n', 'response', ':']\n"
     ]
    },
    {
     "name": "stderr",
     "output_type": "stream",
     "text": [
      "100%|██████████| 20/20 [00:14<00:00,  1.38it/s]"
     ]
    },
    {
     "name": "stdout",
     "output_type": "stream",
     "text": [
      "✅ Inference complete. Results saved to 'rwkv_modbus_outputs.jsonl'\n"
     ]
    },
    {
     "name": "stderr",
     "output_type": "stream",
     "text": [
      "\n"
     ]
    }
   ],
   "source": [
    "#INFERENCE JSONL FORMAT \n",
    "import torch\n",
    "from types import SimpleNamespace  \n",
    "from datasets import load_dataset\n",
    "from transformers import AutoTokenizer\n",
    "from rwkvt.peft.peft_loading import load_peft_model\n",
    "import random\n",
    "import jsonlines\n",
    "from tqdm import tqdm\n",
    "\n",
    "args = SimpleNamespace(\n",
    "    # Required paths\n",
    "    load_model=\"/home/re2230/.cache/huggingface/hub/models--RWKV--rwkv-5-world-all-pth/snapshots/d48d1c54cf32cfdc13fca3c767998a0bf3eef8b6/RWKV-5-World-0.4B-v2-20231113-ctx4096.pth\",\n",
    "    # adapter_path=\"/home/re2230/out/rwkv-modbus-ft/rwkv-4.pth\",\n",
    "    adapter_path = \"/home/re2230/out/rwkv-modbus-ft/rwkv-49.pth\",\n",
    "    # RWKV core\n",
    "    device=\"cuda\" if torch.cuda.is_available() else \"cpu\",\n",
    "    dtype=\"bf16\",\n",
    "    grad_cp=0,  # No gradient checkpointing during inference\n",
    "    # PEFT-specific\n",
    "    peft=\"disha\",\n",
    "    disha_config={\"mode\": \"bone\", \"r\": 32, \"load\": \"\"},\n",
    "    train_parts=\"\",\n",
    "    my_pile_stage=0,\n",
    "    # Required flags (even if unused)\n",
    "    quant=\"none\",\n",
    "    lora_config=None,\n",
    "    pissa_config=None,\n",
    "    #  Required model hyperparameters\n",
    "    vocab_size=65536,\n",
    "    n_layer=24,\n",
    "    n_embd=1024,\n",
    "    ctx_len=4096,\n",
    "    dim_att=1024,\n",
    "    # n_layer=24,\n",
    "    # n_embd=1024,\n",
    "    # dim_att=768,\n",
    "    dim_ffn=3584,\n",
    "    head_size_a=64,\n",
    "    head_size_divisor=8 \n",
    ")\n",
    "\n",
    "\n",
    "# model = load_peft_model(args)\n",
    "args, model = load_peft_model(args)\n",
    "print(type(model))\n",
    "\n",
    "model = model.to(dtype=torch.bfloat16, device=\"cuda\").eval()\n",
    "\n",
    "tokenizer = AutoTokenizer.from_pretrained(\n",
    "    \"RWKV/rwkv-5-world-3b\",\n",
    "    trust_remote_code=True\n",
    ")\n",
    "\n",
    "# Step 2: Define Prompt Format\n",
    "\n",
    "# PROMPT = \"{instruction}\"\n",
    "PROMPT = \"query: {instruction}\\n\\nresponse:\"\n",
    "\n",
    "\n",
    "def generate_response(instruction, model, tokenizer, args, max_new_tokens=20):\n",
    "    prompt = PROMPT.format(instruction=instruction)\n",
    "    input_ids = tokenizer(prompt, return_tensors=\"pt\").input_ids.to(args.device)\n",
    "    print(tokenizer.convert_ids_to_tokens(input_ids[0]))\n",
    "\n",
    "    with torch.no_grad():\n",
    "        for _ in range(max_new_tokens):\n",
    "            out = model(input_ids)\n",
    "            logits = out[0] if isinstance(out, tuple) else out\n",
    "            next_token = torch.argmax(logits[:, -1], dim=-1).unsqueeze(0)\n",
    "            input_ids = torch.cat([input_ids, next_token], dim=1)\n",
    "            if next_token.item() == tokenizer.eos_token_id:\n",
    "                break\n",
    "\n",
    "    return tokenizer.decode(input_ids[0], skip_special_tokens=True)\n",
    "\n",
    "# Step 3: Load Dataset\n",
    "\n",
    "dataset = load_dataset(\"json\", data_files=\"/home/re2230/RWKV-PEFT/rwkvt/dataset/modbus_dataset_test_rwkv.jsonl\")[\"train\"]\n",
    "\n",
    "# Limit to first N examples (e.g., 100)\n",
    "max_examples = 20\n",
    "dataset = dataset.select(range(min(len(dataset), max_examples)))\n",
    "\n",
    "\n",
    "results = []\n",
    "\n",
    "import re\n",
    "\n",
    "\n",
    "for item in tqdm(dataset):\n",
    "    full_text = item[\"text\"].strip()\n",
    "    \n",
    "    # Use regex to extract query and response\n",
    "    match = re.match(r\"query:\\s*(.+?)\\s*\\n\\nresponse:\\s*(.+)\", full_text)\n",
    "    if not match:\n",
    "        print(\"❌ Format error:\", full_text)\n",
    "        continue\n",
    "\n",
    "    query = match.group(1).strip()\n",
    "    expected_response = match.group(2).strip()\n",
    "\n",
    "    # Generate model response\n",
    "    output = generate_response(query, model, tokenizer, args)\n",
    "\n",
    "    # Save result\n",
    "    results.append({\n",
    "        \"query\": query,\n",
    "        \"expected_response\": expected_response,\n",
    "        \"generated_response\": output.strip()\n",
    "    })\n",
    "\n",
    "\n",
    "# Guarda las predicciones\n",
    "with jsonlines.open(\"rwkv_modbus_outputs.jsonl\", mode='w') as writer:\n",
    "    for r in results:\n",
    "        writer.write(r)\n",
    "\n",
    "print(\"✅ Inference complete. Results saved to 'rwkv_modbus_outputs.jsonl'\")\n"
   ]
  },
  {
   "cell_type": "code",
   "execution_count": 46,
   "id": "d7fe6c9b",
   "metadata": {},
   "outputs": [
    {
     "name": "stdout",
     "output_type": "stream",
     "text": [
      "✅ Test Byte Accuracy: 12.24%\n"
     ]
    }
   ],
   "source": [
    "#EVALUATING INFERENCE\n",
    "\n",
    "import jsonlines\n",
    "\n",
    "def hex_accuracy(pred, target):\n",
    "    pred_bytes = [pred[i:i+2] for i in range(0, len(pred), 2)]\n",
    "    target_bytes = [target[i:i+2] for i in range(0, len(target), 2)]\n",
    "    if not target_bytes:\n",
    "        return 0.0\n",
    "    correct = sum(p == t for p, t in zip(pred_bytes, target_bytes))\n",
    "    return correct / len(target_bytes)\n",
    "\n",
    "accuracies = []\n",
    "\n",
    "with jsonlines.open(\"rwkv_modbus_outputs.jsonl\") as reader:\n",
    "    for entry in reader:\n",
    "        acc = hex_accuracy(entry[\"generated_response\"], entry[\"expected_response\"])\n",
    "        accuracies.append(acc)\n",
    "\n",
    "print(f\"✅ Test Byte Accuracy: {sum(accuracies)/len(accuracies):.2%}\")\n"
   ]
  },
  {
   "cell_type": "code",
   "execution_count": null,
   "id": "f4662288",
   "metadata": {},
   "outputs": [],
   "source": [
    "# data_type sft #Select data type\n",
    "# sft_field query response #Perform retrieval based on the question-and-answer format in the JSON.\n",
    "# sft_split \"train\" #Set the number of data to load: \"train\" loads all the data, while \"train[:1000]\" loads only the first 1000 samples.\n",
    "# --data_type sft --sft_field query response --sft_split \"train\""
   ]
  },
  {
   "cell_type": "code",
   "execution_count": 48,
   "id": "7674485e",
   "metadata": {},
   "outputs": [
    {
     "name": "stderr",
     "output_type": "stream",
     "text": [
      "########## Loading /home/re2230/.cache/huggingface/hub/models--RWKV--rwkv-5-world-all-pth/snapshots/d48d1c54cf32cfdc13fca3c767998a0bf3eef8b6/RWKV-5-World-0.4B-v2-20231113-ctx4096.pth... ##########\n"
     ]
    },
    {
     "name": "stdout",
     "output_type": "stream",
     "text": [
      "RWKV(\n",
      "  (model): RWKV5(\n",
      "    (emb): Embedding(65536, 1024)\n",
      "    (blocks): ModuleList(\n",
      "      (0): Block(\n",
      "        (ln1): LayerNorm((1024,), eps=1e-05, elementwise_affine=True)\n",
      "        (ln2): LayerNorm((1024,), eps=1e-05, elementwise_affine=True)\n",
      "        (ln0): LayerNorm((1024,), eps=1e-05, elementwise_affine=True)\n",
      "        (att): RWKV_TimeMix_RWKV5(\n",
      "          (time_shift): ZeroPad2d((0, 0, 1, -1))\n",
      "          (receptance): BoneLinear()\n",
      "          (key): BoneLinear()\n",
      "          (value): BoneLinear()\n",
      "          (output): BoneLinear()\n",
      "          (gate): BoneLinear()\n",
      "          (ln_x): GroupNorm(16, 1024, eps=1e-05, affine=True)\n",
      "        )\n",
      "        (ffn): RWKV_ChannelMix(\n",
      "          (time_shift): ZeroPad2d((0, 0, 1, -1))\n",
      "          (key): BoneLinear()\n",
      "          (receptance): BoneLinear()\n",
      "          (value): BoneLinear()\n",
      "        )\n",
      "      )\n",
      "      (1-23): 23 x Block(\n",
      "        (ln1): LayerNorm((1024,), eps=1e-05, elementwise_affine=True)\n",
      "        (ln2): LayerNorm((1024,), eps=1e-05, elementwise_affine=True)\n",
      "        (att): RWKV_TimeMix_RWKV5(\n",
      "          (time_shift): ZeroPad2d((0, 0, 1, -1))\n",
      "          (receptance): BoneLinear()\n",
      "          (key): BoneLinear()\n",
      "          (value): BoneLinear()\n",
      "          (output): BoneLinear()\n",
      "          (gate): BoneLinear()\n",
      "          (ln_x): GroupNorm(16, 1024, eps=1e-05, affine=True)\n",
      "        )\n",
      "        (ffn): RWKV_ChannelMix(\n",
      "          (time_shift): ZeroPad2d((0, 0, 1, -1))\n",
      "          (key): BoneLinear()\n",
      "          (receptance): BoneLinear()\n",
      "          (value): BoneLinear()\n",
      "        )\n",
      "      )\n",
      "    )\n",
      "    (ln_out): LayerNorm((1024,), eps=1e-05, elementwise_affine=True)\n",
      "    (head): Linear(in_features=1024, out_features=65536, bias=False)\n",
      "  )\n",
      "  (criterion): FusedCrossEntropyLoss()\n",
      ")\n",
      "<class 'rwkvt.lightning_train.light_rwkv.RWKV'>\n"
     ]
    },
    {
     "name": "stderr",
     "output_type": "stream",
     "text": [
      "  0%|          | 0/20 [00:00<?, ?it/s]"
     ]
    },
    {
     "name": "stdout",
     "output_type": "stream",
     "text": [
      "['<s>', '02', '1', 'd', '00', '00', '00', '06', '00', '03', 'fff', 'd', '00', '02', ',', ' response', ':']\n"
     ]
    },
    {
     "name": "stderr",
     "output_type": "stream",
     "text": [
      "  5%|▌         | 1/20 [00:00<00:06,  2.79it/s]"
     ]
    },
    {
     "name": "stdout",
     "output_type": "stream",
     "text": [
      "['<s>', '01', '2', 'c', '00', '00', '00', '06', '00', '05', 'fff', 'df', 'f', '00', ',', ' response', ':']\n"
     ]
    },
    {
     "name": "stderr",
     "output_type": "stream",
     "text": [
      " 10%|█         | 2/20 [00:00<00:06,  2.82it/s]"
     ]
    },
    {
     "name": "stdout",
     "output_type": "stream",
     "text": [
      "['<s>', '03', 'eb', '00', '00', '00', '06', '00', '05', '00', '09', '00', '00', ',', ' response', ':']\n"
     ]
    },
    {
     "name": "stderr",
     "output_type": "stream",
     "text": [
      " 15%|█▌        | 3/20 [00:01<00:06,  2.81it/s]"
     ]
    },
    {
     "name": "stdout",
     "output_type": "stream",
     "text": [
      "['<s>', '04', '5', 'd', '00', '00', '00', '06', '00', '01', 'fff', 'e', '00', '01', ',', ' response', ':']\n"
     ]
    },
    {
     "name": "stderr",
     "output_type": "stream",
     "text": [
      " 20%|██        | 4/20 [00:01<00:05,  2.82it/s]"
     ]
    },
    {
     "name": "stdout",
     "output_type": "stream",
     "text": [
      "['<s>', '06', '10', '00', '00', '00', '0', 'd', '00', '10', '00', '28', '00', '03', '06', '00', '00', 'ffff', '00', '00', ',', ' response', ':']\n"
     ]
    },
    {
     "name": "stderr",
     "output_type": "stream",
     "text": [
      " 25%|██▌       | 5/20 [00:01<00:05,  2.86it/s]"
     ]
    },
    {
     "name": "stdout",
     "output_type": "stream",
     "text": [
      "['<s>', '05', '8', 'd', '00', '00', '00', '06', '00', '01', '00', '28', '00', '02', ',', ' response', ':']\n"
     ]
    },
    {
     "name": "stderr",
     "output_type": "stream",
     "text": [
      " 30%|███       | 6/20 [00:02<00:04,  2.83it/s]"
     ]
    },
    {
     "name": "stdout",
     "output_type": "stream",
     "text": [
      "['<s>', '03', '20', '00', '00', '00', '06', '00', '03', '00', '28', '00', '01', ',', ' response', ':']\n"
     ]
    },
    {
     "name": "stderr",
     "output_type": "stream",
     "text": [
      " 35%|███▌      | 7/20 [00:02<00:04,  2.86it/s]"
     ]
    },
    {
     "name": "stdout",
     "output_type": "stream",
     "text": [
      "['<s>', '02', '3', 'a', '00', '00', '00', '06', '00', '03', 'fff', 'e', '00', '01', ',', ' response', ':']\n"
     ]
    },
    {
     "name": "stderr",
     "output_type": "stream",
     "text": [
      " 40%|████      | 8/20 [00:02<00:04,  2.90it/s]"
     ]
    },
    {
     "name": "stdout",
     "output_type": "stream",
     "text": [
      "['<s>', '03', '82', '00', '00', '00', '0', 'd', '00', '10', '00', '25', '00', '03', '06', '00', '00', 'a', '99', '4', 'a', '99', '4', ',', ' response', ':']\n"
     ]
    },
    {
     "name": "stderr",
     "output_type": "stream",
     "text": [
      " 45%|████▌     | 9/20 [00:03<00:03,  2.92it/s]"
     ]
    },
    {
     "name": "stdout",
     "output_type": "stream",
     "text": [
      "['<s>', '02', '53', '00', '00', '00', '06', '00', '03', '00', '00', '00', '02', ',', ' response', ':']\n"
     ]
    },
    {
     "name": "stderr",
     "output_type": "stream",
     "text": [
      " 50%|█████     | 10/20 [00:03<00:03,  2.92it/s]"
     ]
    },
    {
     "name": "stdout",
     "output_type": "stream",
     "text": [
      "['<s>', '04', 'd', '20', '00', '00', '00', '60', '00', '50', '02', '8', 'ff', '00', ',', ' response', ':']\n"
     ]
    },
    {
     "name": "stderr",
     "output_type": "stream",
     "text": [
      " 55%|█████▌    | 11/20 [00:03<00:03,  2.87it/s]"
     ]
    },
    {
     "name": "stdout",
     "output_type": "stream",
     "text": [
      "['<s>', '05', '46', '00', '00', '00', '06', '00', '03', '00', '00', '00', '01', ',', ' response', ':']\n"
     ]
    },
    {
     "name": "stderr",
     "output_type": "stream",
     "text": [
      " 60%|██████    | 12/20 [00:04<00:02,  2.90it/s]"
     ]
    },
    {
     "name": "stdout",
     "output_type": "stream",
     "text": [
      "['<s>', '02', 'ca', '00', '00', '00', '06', '00', '01', '00', '28', '00', '02', ',', ' response', ':']\n"
     ]
    },
    {
     "name": "stderr",
     "output_type": "stream",
     "text": [
      " 65%|██████▌   | 13/20 [00:04<00:02,  2.92it/s]"
     ]
    },
    {
     "name": "stdout",
     "output_type": "stream",
     "text": [
      "['<s>', '03', '4', 'f', '00', '00', '00', '06', '00', '01', 'eb', '18', '00', '02', ',', ' response', ':']\n"
     ]
    },
    {
     "name": "stderr",
     "output_type": "stream",
     "text": [
      " 70%|███████   | 14/20 [00:04<00:02,  2.86it/s]"
     ]
    },
    {
     "name": "stdout",
     "output_type": "stream",
     "text": [
      "['<s>', '00', '56', '00', '00', '00', '06', '00', '03', '00', '25', '00', '02', ',', ' response', ':']\n"
     ]
    },
    {
     "name": "stderr",
     "output_type": "stream",
     "text": [
      " 75%|███████▌  | 15/20 [00:05<00:01,  2.87it/s]"
     ]
    },
    {
     "name": "stdout",
     "output_type": "stream",
     "text": [
      "['<s>', '05', 'fe', '00', '00', '00', '06', '00', '03', 'cab', '30', '00', '2', ',', ' response', ':']\n"
     ]
    },
    {
     "name": "stderr",
     "output_type": "stream",
     "text": [
      " 80%|████████  | 16/20 [00:05<00:01,  2.88it/s]"
     ]
    },
    {
     "name": "stdout",
     "output_type": "stream",
     "text": [
      "['<s>', '01', 'a', '20', '00', '00', '00', '60', '00', '30', '01', '20', '00', '2', ',', ' response', ':']\n"
     ]
    },
    {
     "name": "stderr",
     "output_type": "stream",
     "text": [
      " 85%|████████▌ | 17/20 [00:05<00:01,  2.90it/s]"
     ]
    },
    {
     "name": "stdout",
     "output_type": "stream",
     "text": [
      "['<s>', '05', '66', '00', '00', '00', '06', '00', '01', 'fff', 'e', '00', '01', ',', ' response', ':']\n"
     ]
    },
    {
     "name": "stderr",
     "output_type": "stream",
     "text": [
      " 90%|█████████ | 18/20 [00:06<00:00,  2.90it/s]"
     ]
    },
    {
     "name": "stdout",
     "output_type": "stream",
     "text": [
      "['<s>', '05', '0', 'c', '00', '00', '00', '0', 'd', '00', '10', 'fff', 'd', '00', '03', '06', 'ffffffff', '83', '18', ',', ' response', ':']\n"
     ]
    },
    {
     "name": "stderr",
     "output_type": "stream",
     "text": [
      " 95%|█████████▌| 19/20 [00:06<00:00,  2.90it/s]"
     ]
    },
    {
     "name": "stdout",
     "output_type": "stream",
     "text": [
      "['<s>', '04', '47', '00', '00', '00', '06', '00', '01', '00', '28', '00', '02', ',', ' response', ':']\n"
     ]
    },
    {
     "name": "stderr",
     "output_type": "stream",
     "text": [
      "100%|██████████| 20/20 [00:06<00:00,  2.88it/s]"
     ]
    },
    {
     "name": "stdout",
     "output_type": "stream",
     "text": [
      "Inference complete. Avg time per query: 0.3462 seconds\n",
      "✅ Inference complete. Results saved to 'rwkv_modbus_outputs.jsonl'\n"
     ]
    },
    {
     "name": "stderr",
     "output_type": "stream",
     "text": [
      "\n"
     ]
    }
   ],
   "source": [
    "#INFERENCE JSONL FORMAT AND TIME OF INFERENCE \n",
    "\n",
    "import torch\n",
    "from types import SimpleNamespace  # 🔄 Replacement for InferenceArgs\n",
    "from datasets import load_dataset\n",
    "from transformers import AutoTokenizer\n",
    "from rwkvt.peft.peft_loading import load_peft_model\n",
    "import random\n",
    "import jsonlines\n",
    "from tqdm import tqdm\n",
    "import time\n",
    "\n",
    "results = []\n",
    "total_time = 0\n",
    "num_queries = 0\n",
    "\n",
    "args = SimpleNamespace(\n",
    "    # Required paths\n",
    "    load_model=\"/home/re2230/.cache/huggingface/hub/models--RWKV--rwkv-5-world-all-pth/snapshots/d48d1c54cf32cfdc13fca3c767998a0bf3eef8b6/RWKV-5-World-0.4B-v2-20231113-ctx4096.pth\",\n",
    "    # adapter_path=\"/home/re2230/out/rwkv-modbus-ft/rwkv-4.pth\",\n",
    "    adapter_path = \"/home/re2230/out/rwkv-modbus-ft/rwkv-49.pth\",\n",
    "    \n",
    "    # RWKV core\n",
    "    device=\"cuda\" if torch.cuda.is_available() else \"cpu\",\n",
    "    dtype=\"bf16\",\n",
    "    grad_cp=0,  # No gradient checkpointing during inference\n",
    "\n",
    "\n",
    "    # PEFT-specific\n",
    "    peft=\"disha\",\n",
    "    disha_config={\"mode\": \"bone\", \"r\": 32, \"load\": \"\"},\n",
    "    train_parts=\"\",\n",
    "    my_pile_stage=0,\n",
    "\n",
    "    # Required flags (even if unused)\n",
    "    quant=\"none\",\n",
    "    lora_config=None,\n",
    "    pissa_config=None,\n",
    "\n",
    "    # ✅ Required model hyperparameters\n",
    "    vocab_size=65536,\n",
    "    n_layer=24,\n",
    "    n_embd=1024,\n",
    "    ctx_len=4096,\n",
    "    dim_att=1024,\n",
    "    # n_layer=24,\n",
    "    # n_embd=1024,\n",
    "    # dim_att=768,\n",
    "    dim_ffn=3584,\n",
    "    head_size_a=64,\n",
    "    head_size_divisor=8 \n",
    ")\n",
    "\n",
    "\n",
    "# model = load_peft_model(args)\n",
    "args, model = load_peft_model(args)\n",
    "print(type(model))\n",
    "\n",
    "model = model.to(dtype=torch.bfloat16, device=\"cuda\").eval()\n",
    "\n",
    "tokenizer = AutoTokenizer.from_pretrained(\n",
    "    \"RWKV/rwkv-5-world-3b\",\n",
    "    trust_remote_code=True\n",
    ")\n",
    "\n",
    "# Step 2: Define Prompt Format\n",
    "\n",
    "# PROMPT = \"{instruction}\"\n",
    "prompt = \"query: {instruction}\\n\\nresponse:\"\n",
    "\n",
    "\n",
    "def generate_response(instruction, model, tokenizer, args, max_new_tokens=10):\n",
    "    prompt = PROMPT.format(instruction=instruction)\n",
    "    input_ids = tokenizer(prompt, return_tensors=\"pt\").input_ids.to(args.device)\n",
    "    print(tokenizer.convert_ids_to_tokens(input_ids[0]))\n",
    "\n",
    "    with torch.no_grad():\n",
    "        for _ in range(max_new_tokens):\n",
    "            out = model(input_ids)\n",
    "            logits = out[0] if isinstance(out, tuple) else out\n",
    "            next_token = torch.argmax(logits[:, -1], dim=-1).unsqueeze(0)\n",
    "            input_ids = torch.cat([input_ids, next_token], dim=1)\n",
    "            if next_token.item() == tokenizer.eos_token_id:\n",
    "                break\n",
    "\n",
    "    return tokenizer.decode(input_ids[0], skip_special_tokens=True)\n",
    "\n",
    "\n",
    "\n",
    "# Step 3: Load Dataset\n",
    "\n",
    "dataset = load_dataset(\"json\", data_files=\"/home/re2230/RWKV-PEFT/rwkvt/dataset/modbus_dataset_test_rwkv.jsonl\")[\"train\"]\n",
    "\n",
    "# Limit to first N examples (e.g., 100)\n",
    "max_examples = 20\n",
    "dataset = dataset.select(range(min(len(dataset), max_examples)))\n",
    "\n",
    "\n",
    "results = []\n",
    "\n",
    "import re\n",
    "\n",
    "\n",
    "for item in tqdm(dataset):\n",
    "    full_text = item[\"text\"].strip()\n",
    "    \n",
    "    # Use regex to extract query and response\n",
    "    match = re.match(r\"query:\\s*(.+?)\\s*\\n\\nresponse:\\s*(.+)\", full_text)\n",
    "    if not match:\n",
    "        print(\"❌ Format error:\", full_text)\n",
    "        continue\n",
    "\n",
    "    query = match.group(1).strip()\n",
    "    expected_response = match.group(2).strip()\n",
    "\n",
    "    start_time = time.time()\n",
    "    output = generate_response(query, model, tokenizer, args)\n",
    "    elapsed = time.time() - start_time\n",
    "    \n",
    "\n",
    "    # Save result\n",
    "    results.append({\n",
    "        \"query\": query,\n",
    "        \"expected_response\": expected_response,\n",
    "        \"generated_response\": output.strip()\n",
    "    })\n",
    "\n",
    "    total_time += elapsed\n",
    "    num_queries += 1\n",
    "\n",
    "avg_time = total_time / num_queries\n",
    "print(f\"Inference complete. Avg time per query: {avg_time:.4f} seconds\")\n",
    "\n",
    "\n",
    "# Guarda las predicciones\n",
    "with jsonlines.open(\"rwkv_modbus_outputs.jsonl\", mode='w') as writer:\n",
    "    for r in results:\n",
    "        writer.write(r)\n",
    "\n",
    "print(\"✅ Inference complete. Results saved to 'rwkv_modbus_outputs.jsonl'\")\n"
   ]
  },
  {
   "cell_type": "code",
   "execution_count": null,
   "id": "fa63cedd",
   "metadata": {},
   "outputs": [],
   "source": [
    "#INFERENCE WITH SFT TRAINING\n",
    "import torch\n",
    "from types import SimpleNamespace  # 🔄 Replacement for InferenceArgs\n",
    "from datasets import load_dataset\n",
    "from transformers import AutoTokenizer\n",
    "from rwkvt.peft.peft_loading import load_peft_model\n",
    "import random\n",
    "import jsonlines\n",
    "from tqdm import tqdm\n",
    "\n",
    "args = SimpleNamespace(\n",
    "    # Required paths\n",
    "    load_model=\"/home/re2230/.cache/huggingface/hub/models--RWKV--rwkv-5-world-all-pth/snapshots/d48d1c54cf32cfdc13fca3c767998a0bf3eef8b6/RWKV-5-World-0.4B-v2-20231113-ctx4096.pth\",\n",
    "    adapter_path=\"/home/re2230/out/rwkv-modbus-ft/rwkv-4.pth\",\n",
    "\n",
    "    # RWKV core\n",
    "    device=\"cuda\" if torch.cuda.is_available() else \"cpu\",\n",
    "    dtype=\"bf16\",\n",
    "    grad_cp=0,  # No gradient checkpointing during inference\n",
    "\n",
    "\n",
    "    # PEFT-specific\n",
    "    peft=\"disha\",\n",
    "    disha_config={\"mode\": \"bone\", \"r\": 32, \"load\": \"\"},\n",
    "    train_parts=\"\",\n",
    "    my_pile_stage=0,\n",
    "\n",
    "    # Required flags (even if unused)\n",
    "    quant=\"none\",\n",
    "    lora_config=None,\n",
    "    pissa_config=None,\n",
    "\n",
    "    # ✅ Required model hyperparameters\n",
    "    vocab_size=65536,\n",
    "    n_layer=24,\n",
    "    n_embd=1024,\n",
    "    ctx_len=4096,\n",
    "    dim_att=1024,\n",
    "    # n_layer=24,\n",
    "    # n_embd=1024,\n",
    "    # dim_att=768,\n",
    "    dim_ffn=3584,\n",
    "    head_size_a=64,\n",
    "    head_size_divisor=8 \n",
    ")\n",
    "\n",
    "\n",
    "# model = load_peft_model(args)\n",
    "args, model = load_peft_model(args)\n",
    "print(type(model))\n",
    "\n",
    "model = model.to(dtype=torch.bfloat16, device=\"cuda\").eval()\n",
    "\n",
    "tokenizer = AutoTokenizer.from_pretrained(\n",
    "    \"RWKV/rwkv-5-world-3b\",\n",
    "    trust_remote_code=True\n",
    ")\n",
    "\n",
    "# Step 2: Define Prompt Format\n",
    "\n",
    "PROMPT = \"{instruction}\"\n",
    "\n",
    "def generate_response(instruction, model, tokenizer, args, max_new_tokens=100):\n",
    "    prompt = PROMPT.format(instruction=instruction)\n",
    "    input_ids = tokenizer(prompt, return_tensors=\"pt\").input_ids.to(args.device)\n",
    "    print(tokenizer.convert_ids_to_tokens(input_ids[0]))\n",
    "\n",
    "    with torch.no_grad():\n",
    "        for _ in range(max_new_tokens):\n",
    "            out = model(input_ids)\n",
    "            logits = out[0] if isinstance(out, tuple) else out\n",
    "            next_token = torch.argmax(logits[:, -1], dim=-1).unsqueeze(0)\n",
    "            input_ids = torch.cat([input_ids, next_token], dim=1)\n",
    "            if next_token.item() == tokenizer.eos_token_id:\n",
    "                break\n",
    "\n",
    "    return tokenizer.decode(input_ids[0], skip_special_tokens=True)\n",
    "\n",
    "\n",
    "\n",
    "# Step 3: Load Dataset\n",
    "\n",
    "dataset = load_dataset(\"json\", data_files=\"/home/re2230/RWKV-PEFT/rwkvt/dataset/modbus_dataset_test.jsonl\")[\"train\"]\n",
    "\n",
    "# Limit to first N examples (e.g., 100)\n",
    "max_examples = 20\n",
    "dataset = dataset.select(range(min(len(dataset), max_examples)))\n",
    "\n",
    "\n",
    "results = []\n",
    "\n",
    "# Procesamiento por ejemplo\n",
    "for item in tqdm(dataset):\n",
    "    query = item[\"query\"].strip()\n",
    "    if not query:\n",
    "        continue\n",
    "\n",
    "    output = generate_response(query, model, tokenizer, args)\n",
    "\n",
    "    results.append({\n",
    "        \"query\": query,\n",
    "        \"expected_response\": item[\"response\"],\n",
    "        \"generated_response\": output.strip()\n",
    "    })\n",
    "\n",
    "\n",
    "# Guarda las predicciones\n",
    "with jsonlines.open(\"rwkv_modbus_outputs.jsonl\", mode='w') as writer:\n",
    "    for r in results:\n",
    "        writer.write(r)\n",
    "\n",
    "print(\"✅ Inference complete. Results saved to 'rwkv_modbus_outputs.jsonl'\")\n"
   ]
  }
 ],
 "metadata": {
  "kernelspec": {
   "display_name": "rwkv-env",
   "language": "python",
   "name": "python3"
  },
  "language_info": {
   "codemirror_mode": {
    "name": "ipython",
    "version": 3
   },
   "file_extension": ".py",
   "mimetype": "text/x-python",
   "name": "python",
   "nbconvert_exporter": "python",
   "pygments_lexer": "ipython3",
   "version": "3.10.12"
  }
 },
 "nbformat": 4,
 "nbformat_minor": 5
}
